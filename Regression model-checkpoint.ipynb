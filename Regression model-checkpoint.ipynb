{
 "cells": [
  {
   "cell_type": "code",
   "execution_count": 8,
   "metadata": {},
   "outputs": [
    {
     "name": "stderr",
     "output_type": "stream",
     "text": [
      "Using TensorFlow backend.\n"
     ]
    }
   ],
   "source": [
    "import numpy as np\n",
    "import matplotlib.pyplot as plt\n",
    "from keras.models import Sequential\n",
    "from keras.layers import Dense\n",
    "from keras.optimizers import Adam"
   ]
  },
  {
   "cell_type": "code",
   "execution_count": 9,
   "metadata": {},
   "outputs": [
    {
     "data": {
      "text/plain": [
       "<matplotlib.collections.PathCollection at 0x21c7eff1588>"
      ]
     },
     "execution_count": 9,
     "metadata": {},
     "output_type": "execute_result"
    },
    {
     "data": {
      "image/png": "[encoded data removed]",
      "text/plain": [
       "<Figure size 432x288 with 1 Axes>"
      ]
     },
     "metadata": {
      "needs_background": "light"
     },
     "output_type": "display_data"
    }
   ],
   "source": [
    "np.random.seed(0)\n",
    "points = 500\n",
    "X = np.linspace(-3, 3, points)\n",
    "Y = np.sin(X) + np.random.uniform(-0.5, 0.5, points)\n",
    "\n",
    "plt.scatter(X, Y)"
   ]
  },
  {
   "cell_type": "code",
   "execution_count": 10,
   "metadata": {},
   "outputs": [
    {
     "name": "stdout",
     "output_type": "stream",
     "text": [
      "WARNING:tensorflow:From C:\\Users\\user\\Anaconda3\\lib\\site-packages\\tensorflow\\python\\framework\\op_def_library.py:263: colocate_with (from tensorflow.python.framework.ops) is deprecated and will be removed in a future version.\n",
      "Instructions for updating:\n",
      "Colocations handled automatically by placer.\n"
     ]
    }
   ],
   "source": [
    "model = Sequential()\n",
    "model.add(Dense(50, activation='sigmoid', input_dim=1))\n",
    "model.add(Dense(50, activation='sigmoid'))\n",
    "model.add(Dense(1))\n"
   ]
  },
  {
   "cell_type": "code",
   "execution_count": 13,
   "metadata": {},
   "outputs": [
    {
     "name": "stdout",
     "output_type": "stream",
     "text": [
      "Epoch 1/50\n",
      "500/500 [==============================] - 0s 411us/step - loss: 0.2298\n",
      "Epoch 2/50\n",
      "500/500 [==============================] - 0s 36us/step - loss: 0.2278\n",
      "Epoch 3/50\n",
      "500/500 [==============================] - 0s 46us/step - loss: 0.1765\n",
      "Epoch 4/50\n",
      "500/500 [==============================] - 0s 42us/step - loss: 0.1774\n",
      "Epoch 5/50\n",
      "500/500 [==============================] - 0s 38us/step - loss: 0.1625\n",
      "Epoch 6/50\n",
      "500/500 [==============================] - 0s 38us/step - loss: 0.1593\n",
      "Epoch 7/50\n",
      "500/500 [==============================] - 0s 34us/step - loss: 0.1514\n",
      "Epoch 8/50\n",
      "500/500 [==============================] - 0s 34us/step - loss: 0.1291\n",
      "Epoch 9/50\n",
      "500/500 [==============================] - 0s 36us/step - loss: 0.1182\n",
      "Epoch 10/50\n",
      "500/500 [==============================] - 0s 40us/step - loss: 0.1204\n",
      "Epoch 11/50\n",
      "500/500 [==============================] - 0s 42us/step - loss: 0.1231\n",
      "Epoch 12/50\n",
      "500/500 [==============================] - 0s 38us/step - loss: 0.1093\n",
      "Epoch 13/50\n",
      "500/500 [==============================] - 0s 30us/step - loss: 0.1210\n",
      "Epoch 14/50\n",
      "500/500 [==============================] - 0s 42us/step - loss: 0.1179\n",
      "Epoch 15/50\n",
      "500/500 [==============================] - 0s 28us/step - loss: 0.1080\n",
      "Epoch 16/50\n",
      "500/500 [==============================] - 0s 40us/step - loss: 0.1122\n",
      "Epoch 17/50\n",
      "500/500 [==============================] - 0s 52us/step - loss: 0.1163\n",
      "Epoch 18/50\n",
      "500/500 [==============================] - 0s 52us/step - loss: 0.1059\n",
      "Epoch 19/50\n",
      "500/500 [==============================] - 0s 58us/step - loss: 0.1140\n",
      "Epoch 20/50\n",
      "500/500 [==============================] - 0s 56us/step - loss: 0.1058\n",
      "Epoch 21/50\n",
      "500/500 [==============================] - 0s 60us/step - loss: 0.1023\n",
      "Epoch 22/50\n",
      "500/500 [==============================] - 0s 52us/step - loss: 0.1031\n",
      "Epoch 23/50\n",
      "500/500 [==============================] - 0s 46us/step - loss: 0.1059\n",
      "Epoch 24/50\n",
      "500/500 [==============================] - 0s 36us/step - loss: 0.1049\n",
      "Epoch 25/50\n",
      "500/500 [==============================] - 0s 40us/step - loss: 0.1044\n",
      "Epoch 26/50\n",
      "500/500 [==============================] - 0s 38us/step - loss: 0.1014\n",
      "Epoch 27/50\n",
      "500/500 [==============================] - 0s 28us/step - loss: 0.1177\n",
      "Epoch 28/50\n",
      "500/500 [==============================] - 0s 38us/step - loss: 0.1078\n",
      "Epoch 29/50\n",
      "500/500 [==============================] - 0s 42us/step - loss: 0.1045\n",
      "Epoch 30/50\n",
      "500/500 [==============================] - 0s 42us/step - loss: 0.1031\n",
      "Epoch 31/50\n",
      "500/500 [==============================] - 0s 52us/step - loss: 0.1090\n",
      "Epoch 32/50\n",
      "500/500 [==============================] - 0s 60us/step - loss: 0.1070\n",
      "Epoch 33/50\n",
      "500/500 [==============================] - 0s 44us/step - loss: 0.1135\n",
      "Epoch 34/50\n",
      "500/500 [==============================] - 0s 48us/step - loss: 0.1061\n",
      "Epoch 35/50\n",
      "500/500 [==============================] - 0s 50us/step - loss: 0.1008\n",
      "Epoch 36/50\n",
      "500/500 [==============================] - 0s 36us/step - loss: 0.1127\n",
      "Epoch 37/50\n",
      "500/500 [==============================] - 0s 36us/step - loss: 0.1010\n",
      "Epoch 38/50\n",
      "500/500 [==============================] - 0s 56us/step - loss: 0.1032\n",
      "Epoch 39/50\n",
      "500/500 [==============================] - 0s 26us/step - loss: 0.1016\n",
      "Epoch 40/50\n",
      "500/500 [==============================] - 0s 24us/step - loss: 0.1005\n",
      "Epoch 41/50\n",
      "500/500 [==============================] - 0s 22us/step - loss: 0.1008\n",
      "Epoch 42/50\n",
      "500/500 [==============================] - 0s 24us/step - loss: 0.1056\n",
      "Epoch 43/50\n",
      "500/500 [==============================] - 0s 22us/step - loss: 0.1084\n",
      "Epoch 44/50\n",
      "500/500 [==============================] - 0s 24us/step - loss: 0.0997\n",
      "Epoch 45/50\n",
      "500/500 [==============================] - 0s 24us/step - loss: 0.1016\n",
      "Epoch 46/50\n",
      "500/500 [==============================] - 0s 22us/step - loss: 0.0965\n",
      "Epoch 47/50\n",
      "500/500 [==============================] - 0s 22us/step - loss: 0.1092\n",
      "Epoch 48/50\n",
      "500/500 [==============================] - 0s 22us/step - loss: 0.1012\n",
      "Epoch 49/50\n",
      "500/500 [==============================] - 0s 22us/step - loss: 0.0984\n",
      "Epoch 50/50\n",
      "500/500 [==============================] - 0s 24us/step - loss: 0.1023\n"
     ]
    },
    {
     "data": {
      "text/plain": [
       "<keras.callbacks.History at 0x21c7f02e630>"
      ]
     },
     "execution_count": 13,
     "metadata": {},
     "output_type": "execute_result"
    }
   ],
   "source": [
    "adam = Adam(lr=0.01)\n",
    "model.compile(loss='mse', optimizer=adam)\n",
    "model.fit(X, Y, epochs=50)"
   ]
  },
  {
   "cell_type": "code",
   "execution_count": 14,
   "metadata": {},
   "outputs": [
    {
     "data": {
      "text/plain": [
       "<matplotlib.collections.PathCollection at 0x21c7f92a9b0>"
      ]
     },
     "execution_count": 14,
     "metadata": {},
     "output_type": "execute_result"
    },
    {
     "data": {
      "image/png": "[encoded data removed]",
      "text/plain": [
       "<Figure size 432x288 with 1 Axes>"
      ]
     },
     "metadata": {
      "needs_background": "light"
     },
     "output_type": "display_data"
    }
   ],
   "source": [
    "predictions = model.predict(X)\n",
    "plt.scatter(X, Y)\n",
    "plt.plot(X, predictions, 'ro')\n",
    "plt.show()"
   ]
  },
  {
   "cell_type": "code",
   "execution_count": null,
   "metadata": {},
   "outputs": [],
   "source": []
  }
 ],
 "metadata": {
  "kernelspec": {
   "display_name": "Python 3",
   "language": "python",
   "name": "python3"
  },
  "language_info": {
   "codemirror_mode": {
    "name": "ipython",
    "version": 3
   },
   "file_extension": ".py",
   "mimetype": "text/x-python",
   "name": "python",
   "nbconvert_exporter": "python",
   "pygments_lexer": "ipython3",
   "version": "3.7.1"
  }
 },
 "nbformat": 4,
 "nbformat_minor": 2
}
