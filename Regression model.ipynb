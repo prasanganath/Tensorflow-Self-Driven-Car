{
 "cells": [
  {
   "cell_type": "code",
   "execution_count": 8,
   "metadata": {},
   "outputs": [
    {
     "name": "stderr",
     "output_type": "stream",
     "text": [
      "Using TensorFlow backend.\n"
     ]
    }
   ],
   "source": [
    "import numpy as np\n",
    "import matplotlib.pyplot as plt\n",
    "from keras.models import Sequential\n",
    "from keras.layers import Dense\n",
    "from keras.optimizers import Adam"
   ]
  },
  {
   "cell_type": "code",
   "execution_count": 9,
   "metadata": {},
   "outputs": [
    {
     "data": {
      "text/plain": [
       "<matplotlib.collections.PathCollection at 0x21c7eff1588>"
      ]
     },
     "execution_count": 9,
     "metadata": {},
     "output_type": "execute_result"
    },
    {
     "data": {
      "image/png": "[encoded data removed]",
      "text/plain": [
       "<Figure size 432x288 with 1 Axes>"
      ]
     },
     "metadata": {
      "needs_background": "light"
     },
     "output_type": "display_data"
    }
   ],
   "source": [
    "np.random.seed(0)\n",
    "points = 500\n",
    "X = np.linspace(-3, 3, points)\n",
    "Y = np.sin(X) + np.random.uniform(-0.5, 0.5, points)\n",
    "\n",
    "plt.scatter(X, Y)"
   ]
  },
  {
   "cell_type": "code",
   "execution_count": 10,
   "metadata": {},
   "outputs": [
    {
     "name": "stdout",
     "output_type": "stream",
     "text": [
      "WARNING:tensorflow:From C:\\Users\\user\\Anaconda3\\lib\\site-packages\\tensorflow\\python\\framework\\op_def_library.py:263: colocate_with (from tensorflow.python.framework.ops) is deprecated and will be removed in a future version.\n",
      "Instructions for updating:\n",
      "Colocations handled automatically by placer.\n"
     ]
    }
   ],
   "source": [
    "model = Sequential()\n",
    "model.add(Dense(50, activation='sigmoid', input_dim=1))\n",
    "model.add(Dense(50, activation='sigmoid'))\n",
    "model.add(Dense(1))\n"
   ]
  },
  {
   "cell_type": "code",
   "execution_count": 16,
   "metadata": {},
   "outputs": [
    {
     "name": "stdout",
     "output_type": "stream",
     "text": [
      "Epoch 1/100\n",
      "500/500 [==============================] - 0s 688us/step - loss: 0.1107\n",
      "Epoch 2/100\n",
      "500/500 [==============================] - 0s 40us/step - loss: 0.1076\n",
      "Epoch 3/100\n",
      "500/500 [==============================] - 0s 42us/step - loss: 0.1021\n",
      "Epoch 4/100\n",
      "500/500 [==============================] - 0s 44us/step - loss: 0.0994\n",
      "Epoch 5/100\n",
      "500/500 [==============================] - 0s 40us/step - loss: 0.0961\n",
      "Epoch 6/100\n",
      "500/500 [==============================] - 0s 44us/step - loss: 0.0987\n",
      "Epoch 7/100\n",
      "500/500 [==============================] - 0s 48us/step - loss: 0.0941\n",
      "Epoch 8/100\n",
      "500/500 [==============================] - 0s 44us/step - loss: 0.0996\n",
      "Epoch 9/100\n",
      "500/500 [==============================] - 0s 42us/step - loss: 0.0961\n",
      "Epoch 10/100\n",
      "500/500 [==============================] - 0s 52us/step - loss: 0.0962\n",
      "Epoch 11/100\n",
      "500/500 [==============================] - 0s 44us/step - loss: 0.1127\n",
      "Epoch 12/100\n",
      "500/500 [==============================] - 0s 58us/step - loss: 0.1063\n",
      "Epoch 13/100\n",
      "500/500 [==============================] - 0s 92us/step - loss: 0.0977\n",
      "Epoch 14/100\n",
      "500/500 [==============================] - 0s 60us/step - loss: 0.0980\n",
      "Epoch 15/100\n",
      "500/500 [==============================] - 0s 50us/step - loss: 0.0932\n",
      "Epoch 16/100\n",
      "500/500 [==============================] - 0s 48us/step - loss: 0.0913\n",
      "Epoch 17/100\n",
      "500/500 [==============================] - 0s 54us/step - loss: 0.0948\n",
      "Epoch 18/100\n",
      "500/500 [==============================] - 0s 56us/step - loss: 0.0962\n",
      "Epoch 19/100\n",
      "500/500 [==============================] - 0s 48us/step - loss: 0.0962\n",
      "Epoch 20/100\n",
      "500/500 [==============================] - 0s 50us/step - loss: 0.0935\n",
      "Epoch 21/100\n",
      "500/500 [==============================] - 0s 40us/step - loss: 0.0934\n",
      "Epoch 22/100\n",
      "500/500 [==============================] - 0s 64us/step - loss: 0.0962\n",
      "Epoch 23/100\n",
      "500/500 [==============================] - 0s 46us/step - loss: 0.0915\n",
      "Epoch 24/100\n",
      "500/500 [==============================] - 0s 48us/step - loss: 0.0948\n",
      "Epoch 25/100\n",
      "500/500 [==============================] - 0s 46us/step - loss: 0.0951\n",
      "Epoch 26/100\n",
      "500/500 [==============================] - 0s 46us/step - loss: 0.0922\n",
      "Epoch 27/100\n",
      "500/500 [==============================] - 0s 56us/step - loss: 0.0954\n",
      "Epoch 28/100\n",
      "500/500 [==============================] - 0s 54us/step - loss: 0.1014\n",
      "Epoch 29/100\n",
      "500/500 [==============================] - 0s 46us/step - loss: 0.0995\n",
      "Epoch 30/100\n",
      "500/500 [==============================] - 0s 48us/step - loss: 0.1163\n",
      "Epoch 31/100\n",
      "500/500 [==============================] - 0s 66us/step - loss: 0.0966\n",
      "Epoch 32/100\n",
      "500/500 [==============================] - 0s 58us/step - loss: 0.0927\n",
      "Epoch 33/100\n",
      "500/500 [==============================] - 0s 60us/step - loss: 0.0923\n",
      "Epoch 34/100\n",
      "500/500 [==============================] - 0s 56us/step - loss: 0.0919\n",
      "Epoch 35/100\n",
      "500/500 [==============================] - 0s 66us/step - loss: 0.0920\n",
      "Epoch 36/100\n",
      "500/500 [==============================] - 0s 52us/step - loss: 0.0934\n",
      "Epoch 37/100\n",
      "500/500 [==============================] - 0s 82us/step - loss: 0.0926\n",
      "Epoch 38/100\n",
      "500/500 [==============================] - 0s 74us/step - loss: 0.0954\n",
      "Epoch 39/100\n",
      "500/500 [==============================] - 0s 46us/step - loss: 0.0950\n",
      "Epoch 40/100\n",
      "500/500 [==============================] - 0s 46us/step - loss: 0.0987\n",
      "Epoch 41/100\n",
      "500/500 [==============================] - 0s 64us/step - loss: 0.0937\n",
      "Epoch 42/100\n",
      "500/500 [==============================] - 0s 56us/step - loss: 0.0924\n",
      "Epoch 43/100\n",
      "500/500 [==============================] - 0s 50us/step - loss: 0.0929\n",
      "Epoch 44/100\n",
      "500/500 [==============================] - 0s 46us/step - loss: 0.0907\n",
      "Epoch 45/100\n",
      "500/500 [==============================] - 0s 54us/step - loss: 0.0947\n",
      "Epoch 46/100\n",
      "500/500 [==============================] - 0s 48us/step - loss: 0.0965\n",
      "Epoch 47/100\n",
      "500/500 [==============================] - 0s 42us/step - loss: 0.0972\n",
      "Epoch 48/100\n",
      "500/500 [==============================] - 0s 58us/step - loss: 0.1020\n",
      "Epoch 49/100\n",
      "500/500 [==============================] - 0s 74us/step - loss: 0.0953\n",
      "Epoch 50/100\n",
      "500/500 [==============================] - 0s 82us/step - loss: 0.0953\n",
      "Epoch 51/100\n",
      "500/500 [==============================] - 0s 82us/step - loss: 0.0965\n",
      "Epoch 52/100\n",
      "500/500 [==============================] - 0s 76us/step - loss: 0.0989\n",
      "Epoch 53/100\n",
      "500/500 [==============================] - 0s 70us/step - loss: 0.0944\n",
      "Epoch 54/100\n",
      "500/500 [==============================] - 0s 68us/step - loss: 0.1003\n",
      "Epoch 55/100\n",
      "500/500 [==============================] - 0s 68us/step - loss: 0.0955\n",
      "Epoch 56/100\n",
      "500/500 [==============================] - 0s 78us/step - loss: 0.0983\n",
      "Epoch 57/100\n",
      "500/500 [==============================] - 0s 60us/step - loss: 0.0944\n",
      "Epoch 58/100\n",
      "500/500 [==============================] - 0s 76us/step - loss: 0.0938\n",
      "Epoch 59/100\n",
      "500/500 [==============================] - 0s 70us/step - loss: 0.0950\n",
      "Epoch 60/100\n",
      "500/500 [==============================] - 0s 74us/step - loss: 0.0990\n",
      "Epoch 61/100\n",
      "500/500 [==============================] - 0s 90us/step - loss: 0.0975\n",
      "Epoch 62/100\n",
      "500/500 [==============================] - 0s 62us/step - loss: 0.0998\n",
      "Epoch 63/100\n",
      "500/500 [==============================] - 0s 70us/step - loss: 0.0930\n",
      "Epoch 64/100\n",
      "500/500 [==============================] - 0s 56us/step - loss: 0.0955\n",
      "Epoch 65/100\n",
      "500/500 [==============================] - 0s 54us/step - loss: 0.0908\n",
      "Epoch 66/100\n",
      "500/500 [==============================] - 0s 46us/step - loss: 0.0919\n",
      "Epoch 67/100\n",
      "500/500 [==============================] - 0s 42us/step - loss: 0.0925\n",
      "Epoch 68/100\n",
      "500/500 [==============================] - 0s 72us/step - loss: 0.0939\n",
      "Epoch 69/100\n",
      "500/500 [==============================] - 0s 54us/step - loss: 0.0918\n",
      "Epoch 70/100\n",
      "500/500 [==============================] - 0s 38us/step - loss: 0.0944\n",
      "Epoch 71/100\n",
      "500/500 [==============================] - 0s 44us/step - loss: 0.0932\n",
      "Epoch 72/100\n",
      "500/500 [==============================] - 0s 42us/step - loss: 0.0912\n",
      "Epoch 73/100\n",
      "500/500 [==============================] - 0s 50us/step - loss: 0.0927\n",
      "Epoch 74/100\n",
      "500/500 [==============================] - 0s 38us/step - loss: 0.0919\n",
      "Epoch 75/100\n",
      "500/500 [==============================] - 0s 40us/step - loss: 0.0936\n",
      "Epoch 76/100\n",
      "500/500 [==============================] - 0s 44us/step - loss: 0.0917\n",
      "Epoch 77/100\n",
      "500/500 [==============================] - 0s 42us/step - loss: 0.0957\n",
      "Epoch 78/100\n",
      "500/500 [==============================] - 0s 40us/step - loss: 0.0932\n",
      "Epoch 79/100\n",
      "500/500 [==============================] - 0s 44us/step - loss: 0.0913\n",
      "Epoch 80/100\n",
      "500/500 [==============================] - 0s 42us/step - loss: 0.0913\n",
      "Epoch 81/100\n",
      "500/500 [==============================] - 0s 40us/step - loss: 0.0970\n",
      "Epoch 82/100\n",
      "500/500 [==============================] - 0s 60us/step - loss: 0.0946\n",
      "Epoch 83/100\n",
      "500/500 [==============================] - 0s 56us/step - loss: 0.0935\n",
      "Epoch 84/100\n",
      "500/500 [==============================] - 0s 50us/step - loss: 0.0938\n",
      "Epoch 85/100\n",
      "500/500 [==============================] - 0s 44us/step - loss: 0.0904\n",
      "Epoch 86/100\n",
      "500/500 [==============================] - 0s 34us/step - loss: 0.0911\n",
      "Epoch 87/100\n",
      "500/500 [==============================] - 0s 44us/step - loss: 0.0922\n",
      "Epoch 88/100\n",
      "500/500 [==============================] - 0s 42us/step - loss: 0.0908\n",
      "Epoch 89/100\n",
      "500/500 [==============================] - 0s 40us/step - loss: 0.0928\n",
      "Epoch 90/100\n",
      "500/500 [==============================] - 0s 42us/step - loss: 0.0907\n",
      "Epoch 91/100\n",
      "500/500 [==============================] - 0s 48us/step - loss: 0.0976\n",
      "Epoch 92/100\n",
      "500/500 [==============================] - 0s 56us/step - loss: 0.0971\n",
      "Epoch 93/100\n",
      "500/500 [==============================] - 0s 44us/step - loss: 0.0907\n",
      "Epoch 94/100\n",
      "500/500 [==============================] - 0s 52us/step - loss: 0.0916\n",
      "Epoch 95/100\n",
      "500/500 [==============================] - 0s 54us/step - loss: 0.0901\n",
      "Epoch 96/100\n",
      "500/500 [==============================] - 0s 50us/step - loss: 0.0895\n",
      "Epoch 97/100\n",
      "500/500 [==============================] - 0s 44us/step - loss: 0.0953\n",
      "Epoch 98/100\n"
     ]
    },
    {
     "name": "stdout",
     "output_type": "stream",
     "text": [
      "500/500 [==============================] - 0s 50us/step - loss: 0.0921\n",
      "Epoch 99/100\n",
      "500/500 [==============================] - 0s 42us/step - loss: 0.0918\n",
      "Epoch 100/100\n",
      "500/500 [==============================] - 0s 42us/step - loss: 0.1000\n"
     ]
    },
    {
     "data": {
      "text/plain": [
       "<keras.callbacks.History at 0x21c788d2d68>"
      ]
     },
     "execution_count": 16,
     "metadata": {},
     "output_type": "execute_result"
    }
   ],
   "source": [
    "adam = Adam(lr=0.01)\n",
    "model.compile(loss='mse', optimizer=adam)\n",
    "model.fit(X, Y, epochs=100)"
   ]
  },
  {
   "cell_type": "code",
   "execution_count": 17,
   "metadata": {},
   "outputs": [
    {
     "data": {
      "image/png": "[encoded data removed]",
      "text/plain": [
       "<Figure size 432x288 with 1 Axes>"
      ]
     },
     "metadata": {
      "needs_background": "light"
     },
     "output_type": "display_data"
    }
   ],
   "source": [
    "predictions = model.predict(X)\n",
    "plt.scatter(X, Y)\n",
    "plt.plot(X, predictions, 'ro')\n",
    "plt.show()"
   ]
  },
  {
   "cell_type": "code",
   "execution_count": null,
   "metadata": {},
   "outputs": [],
   "source": []
  }
 ],
 "metadata": {
  "kernelspec": {
   "display_name": "Python 3",
   "language": "python",
   "name": "python3"
  },
  "language_info": {
   "codemirror_mode": {
    "name": "ipython",
    "version": 3
   },
   "file_extension": ".py",
   "mimetype": "text/x-python",
   "name": "python",
   "nbconvert_exporter": "python",
   "pygments_lexer": "ipython3",
   "version": "3.7.1"
  }
 },
 "nbformat": 4,
 "nbformat_minor": 2
}
